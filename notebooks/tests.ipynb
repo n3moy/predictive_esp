{
 "cells": [
  {
   "cell_type": "code",
   "execution_count": 1,
   "id": "0b11798d",
   "metadata": {},
   "outputs": [],
   "source": [
    "import os\n",
    "import yaml\n",
    "import json\n",
    "import pandas as pd\n",
    "import numpy as np\n",
    "# import matplotlib.pyplot as plt"
   ]
  },
  {
   "cell_type": "code",
   "execution_count": 11,
   "id": "07f5ef59",
   "metadata": {},
   "outputs": [],
   "source": [
    "data = pd.read_csv(\"C:\\\\Users\\\\vladv\\\\predictiveAnalytics\\\\data\\\\processed_data\\\\joined_resampled\\\\joined_data_4.csv\")"
   ]
  },
  {
   "cell_type": "code",
   "execution_count": 12,
   "id": "fc9b99aa",
   "metadata": {},
   "outputs": [
    {
     "data": {
      "text/plain": [
       "Index(['time', 'active_power', 'active_power2', 'electricity_gage',\n",
       "       'frequency', 'intake_pressure', 'line_pressure', 'liquid_rate',\n",
       "       'motor_load', 'motor_temperature', 'op_current1', 'op_current2',\n",
       "       'op_current3', 'pump_temperature', 'voltageAB', 'voltageBC',\n",
       "       'voltageCA', 'well_id'],\n",
       "      dtype='object')"
      ]
     },
     "execution_count": 12,
     "metadata": {},
     "output_type": "execute_result"
    }
   ],
   "source": [
    "data.columns"
   ]
  },
  {
   "cell_type": "code",
   "execution_count": 4,
   "id": "8ab54535",
   "metadata": {},
   "outputs": [],
   "source": [
    "config_path = os.path.join(\"C:\\\\py\\\\predictive_esp\\\\config\\\\params_all.yaml\")\n",
    "config = yaml.safe_load(open(config_path))[\"create_dataset\"]"
   ]
  },
  {
   "cell_type": "code",
   "execution_count": 6,
   "id": "7a4b4bee",
   "metadata": {},
   "outputs": [
    {
     "data": {
      "text/plain": [
       "['time',\n",
       " 'active_power',\n",
       " 'active_power2',\n",
       " 'electricity_gage',\n",
       " 'frequency',\n",
       " 'intake_pressure',\n",
       " 'line_pressure',\n",
       " 'liquid_rate',\n",
       " 'motor_load',\n",
       " 'motor_temperature',\n",
       " 'op_current1',\n",
       " 'op_current2',\n",
       " 'op_current3',\n",
       " 'pump_temperature',\n",
       " 'voltageAB',\n",
       " 'voltageBC',\n",
       " 'voltageCA',\n",
       " 'well_id']"
      ]
     },
     "execution_count": 6,
     "metadata": {},
     "output_type": "execute_result"
    }
   ],
   "source": [
    "config[\"columns\"]"
   ]
  },
  {
   "cell_type": "code",
   "execution_count": 3,
   "id": "f57b70b4",
   "metadata": {},
   "outputs": [],
   "source": [
    "path = \"/c/py/predictive_esp/data/processed/train.csv\""
   ]
  },
  {
   "cell_type": "code",
   "execution_count": 3,
   "id": "28581550",
   "metadata": {},
   "outputs": [],
   "source": [
    "from sklearn.linear_model import LogisticRegression\n",
    "import pandas as pd"
   ]
  },
  {
   "cell_type": "code",
   "execution_count": 4,
   "id": "2dc57ba1",
   "metadata": {},
   "outputs": [],
   "source": [
    "data = pd.read_csv(path)"
   ]
  },
  {
   "cell_type": "code",
   "execution_count": 5,
   "id": "43832bb5",
   "metadata": {},
   "outputs": [
    {
     "data": {
      "text/plain": [
       "Index(['Unnamed: 0', 'time', 'active_power', 'active_power2',\n",
       "       'electricity_gage', 'frequency', 'intake_pressure', 'line_pressure',\n",
       "       'liquid_rate', 'motor_load', 'motor_temperature', 'op_current1',\n",
       "       'op_current2', 'op_current3', 'pump_temperature', 'voltageAB',\n",
       "       'voltageBC', 'voltageCA', 'well_id', 'voltage_unbalance',\n",
       "       'current_unbalance', 'voltage', 'current', 'resistance', 'power_A',\n",
       "       'power_B', 'power_C', 'theory_power', 'power_diff', 'power_lossesA',\n",
       "       'power_lossesB', 'power_lossesC', 'pressure_drop', 'theory_rate',\n",
       "       'rate_diff', 'freq_ratio', 'freq_squared_ratio', 'freq_cubic_ratio',\n",
       "       'skin', 'current_rol_mean_2520', 'current_rol_std_2520',\n",
       "       'current_rol_max_2520', 'current_rol_min_2520', 'current_spk_2520',\n",
       "       'current_deriv', 'current_squared', 'current_root',\n",
       "       'voltage_rol_mean_2520', 'voltage_rol_std_2520', 'voltage_rol_max_2520',\n",
       "       'voltage_rol_min_2520', 'voltage_spk_2520', 'voltage_deriv',\n",
       "       'voltage_squared', 'voltage_root', 'active_power_rol_mean_2520',\n",
       "       'active_power_rol_std_2520', 'active_power_rol_max_2520',\n",
       "       'active_power_rol_min_2520', 'active_power_spk_2520',\n",
       "       'active_power_deriv', 'active_power_squared', 'active_power_root',\n",
       "       'frequency_rol_mean_2520', 'frequency_rol_std_2520',\n",
       "       'frequency_rol_max_2520', 'frequency_rol_min_2520',\n",
       "       'frequency_spk_2520', 'frequency_deriv', 'frequency_squared',\n",
       "       'frequency_root', 'electricity_gage_rol_mean_2520',\n",
       "       'electricity_gage_rol_std_2520', 'electricity_gage_rol_max_2520',\n",
       "       'electricity_gage_rol_min_2520', 'electricity_gage_spk_2520',\n",
       "       'electricity_gage_deriv', 'electricity_gage_squared',\n",
       "       'electricity_gage_root', 'pump_temperature_rol_mean_2520',\n",
       "       'pump_temperature_rol_std_2520', 'pump_temperature_rol_max_2520',\n",
       "       'pump_temperature_rol_min_2520', 'pump_temperature_spk_2520',\n",
       "       'pump_temperature_deriv', 'pump_temperature_squared',\n",
       "       'pump_temperature_root', 'event_id', 'failure_target'],\n",
       "      dtype='object')"
      ]
     },
     "execution_count": 5,
     "metadata": {},
     "output_type": "execute_result"
    }
   ],
   "source": [
    "data.columns"
   ]
  },
  {
   "cell_type": "code",
   "execution_count": 13,
   "id": "8d395a98",
   "metadata": {},
   "outputs": [],
   "source": [
    "data = data.replace(float(\"inf\"), 0)"
   ]
  },
  {
   "cell_type": "code",
   "execution_count": 14,
   "id": "0eb55a84",
   "metadata": {},
   "outputs": [
    {
     "data": {
      "text/plain": [
       "0.0"
      ]
     },
     "execution_count": 14,
     "metadata": {},
     "output_type": "execute_result"
    }
   ],
   "source": [
    "data[data == float(\"inf\")].sum().sum()"
   ]
  },
  {
   "cell_type": "code",
   "execution_count": 2,
   "id": "1baa9599",
   "metadata": {},
   "outputs": [],
   "source": [
    "path = \"/c/py/predictive_esp/workflow/test_json.json\""
   ]
  },
  {
   "cell_type": "code",
   "execution_count": 6,
   "id": "132df185",
   "metadata": {},
   "outputs": [],
   "source": [
    "test = {u'port_description': None, u'alert_type': u'alert_type', u'event_type': u'CLEARED', u'sector_id': None, u'ip': u'ip', u'device_class': u'device_class', u'area_id': u'557', u'port_name': None, u'device_type': u'device_type', u'guts_object_type_id': None, u'b2o_count': u'0', u'unified_street_id': u'645953', u'campus_id': u'110912', u'event_id': u'4036546030094053586', u'b2b_count': u'1', u'company_id': u'0', u'role_id': u'121', u'unified_house_id': u'203823', u'b2g_count': u'0', u'front_door_number': u'1', u'uhs_id': u'411423', u'network_use_type_id': None, u'device_id': u'users.admin.devices.avatar_1655906982231', u'port_role_id': None, u'affected_services_count': u'2', u'b2c_count': None, u'end_time': u'2022-08-18 06:58:43', u'port_number': None, u'b2r_count': u'0', u'b2f_count': u'0'}\n"
   ]
  },
  {
   "cell_type": "code",
   "execution_count": 9,
   "id": "ea9dc804",
   "metadata": {},
   "outputs": [
    {
     "data": {
      "text/plain": [
       "{'port_description': None,\n",
       " 'alert_type': 'alert_type',\n",
       " 'event_type': 'CLEARED',\n",
       " 'sector_id': None,\n",
       " 'ip': 'ip',\n",
       " 'device_class': 'device_class',\n",
       " 'area_id': '557',\n",
       " 'port_name': None,\n",
       " 'device_type': 'device_type',\n",
       " 'guts_object_type_id': None,\n",
       " 'b2o_count': '0',\n",
       " 'unified_street_id': '645953',\n",
       " 'campus_id': '110912',\n",
       " 'event_id': '4036546030094053586',\n",
       " 'b2b_count': '1',\n",
       " 'company_id': '0',\n",
       " 'role_id': '121',\n",
       " 'unified_house_id': '203823',\n",
       " 'b2g_count': '0',\n",
       " 'front_door_number': '1',\n",
       " 'uhs_id': '411423',\n",
       " 'network_use_type_id': None,\n",
       " 'device_id': 'users.admin.devices.avatar_1655906982231',\n",
       " 'port_role_id': None,\n",
       " 'affected_services_count': '2',\n",
       " 'b2c_count': None,\n",
       " 'end_time': '2022-08-18 06:58:43',\n",
       " 'port_number': None,\n",
       " 'b2r_count': '0',\n",
       " 'b2f_count': '0'}"
      ]
     },
     "execution_count": 9,
     "metadata": {},
     "output_type": "execute_result"
    }
   ],
   "source": [
    "test"
   ]
  },
  {
   "cell_type": "code",
   "execution_count": null,
   "id": "c0850698",
   "metadata": {},
   "outputs": [],
   "source": []
  },
  {
   "cell_type": "code",
   "execution_count": null,
   "id": "0f57a1db",
   "metadata": {},
   "outputs": [],
   "source": []
  }
 ],
 "metadata": {
  "kernelspec": {
   "display_name": "Python 3 (ipykernel)",
   "language": "python",
   "name": "python3"
  },
  "language_info": {
   "codemirror_mode": {
    "name": "ipython",
    "version": 3
   },
   "file_extension": ".py",
   "mimetype": "text/x-python",
   "name": "python",
   "nbconvert_exporter": "python",
   "pygments_lexer": "ipython3",
   "version": "3.8.10"
  }
 },
 "nbformat": 4,
 "nbformat_minor": 5
}
