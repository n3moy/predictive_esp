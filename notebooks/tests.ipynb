{
 "cells": [
  {
   "cell_type": "code",
   "execution_count": 3,
   "id": "0b11798d",
   "metadata": {},
   "outputs": [],
   "source": [
    "import os\n",
    "import yaml\n",
    "\n",
    "import pandas as pd\n",
    "import numpy as np\n",
    "import matplotlib.pyplot as plt"
   ]
  },
  {
   "cell_type": "code",
   "execution_count": 11,
   "id": "07f5ef59",
   "metadata": {},
   "outputs": [],
   "source": [
    "data = pd.read_csv(\"C:\\\\Users\\\\vladv\\\\predictiveAnalytics\\\\data\\\\processed_data\\\\joined_resampled\\\\joined_data_4.csv\")"
   ]
  },
  {
   "cell_type": "code",
   "execution_count": 12,
   "id": "fc9b99aa",
   "metadata": {},
   "outputs": [
    {
     "data": {
      "text/plain": [
       "Index(['time', 'active_power', 'active_power2', 'electricity_gage',\n",
       "       'frequency', 'intake_pressure', 'line_pressure', 'liquid_rate',\n",
       "       'motor_load', 'motor_temperature', 'op_current1', 'op_current2',\n",
       "       'op_current3', 'pump_temperature', 'voltageAB', 'voltageBC',\n",
       "       'voltageCA', 'well_id'],\n",
       "      dtype='object')"
      ]
     },
     "execution_count": 12,
     "metadata": {},
     "output_type": "execute_result"
    }
   ],
   "source": [
    "data.columns"
   ]
  },
  {
   "cell_type": "code",
   "execution_count": 4,
   "id": "8ab54535",
   "metadata": {},
   "outputs": [],
   "source": [
    "config_path = os.path.join(\"C:\\\\py\\\\predictive_esp\\\\config\\\\params_all.yaml\")\n",
    "config = yaml.safe_load(open(config_path))[\"create_dataset\"]"
   ]
  },
  {
   "cell_type": "code",
   "execution_count": 6,
   "id": "7a4b4bee",
   "metadata": {},
   "outputs": [
    {
     "data": {
      "text/plain": [
       "['time',\n",
       " 'active_power',\n",
       " 'active_power2',\n",
       " 'electricity_gage',\n",
       " 'frequency',\n",
       " 'intake_pressure',\n",
       " 'line_pressure',\n",
       " 'liquid_rate',\n",
       " 'motor_load',\n",
       " 'motor_temperature',\n",
       " 'op_current1',\n",
       " 'op_current2',\n",
       " 'op_current3',\n",
       " 'pump_temperature',\n",
       " 'voltageAB',\n",
       " 'voltageBC',\n",
       " 'voltageCA',\n",
       " 'well_id']"
      ]
     },
     "execution_count": 6,
     "metadata": {},
     "output_type": "execute_result"
    }
   ],
   "source": [
    "config[\"columns\"]"
   ]
  },
  {
   "cell_type": "code",
   "execution_count": null,
   "id": "f57b70b4",
   "metadata": {},
   "outputs": [],
   "source": []
  }
 ],
 "metadata": {
  "kernelspec": {
   "display_name": "Python 3 (ipykernel)",
   "language": "python",
   "name": "python3"
  },
  "language_info": {
   "codemirror_mode": {
    "name": "ipython",
    "version": 3
   },
   "file_extension": ".py",
   "mimetype": "text/x-python",
   "name": "python",
   "nbconvert_exporter": "python",
   "pygments_lexer": "ipython3",
   "version": "3.8.12"
  }
 },
 "nbformat": 4,
 "nbformat_minor": 5
}
