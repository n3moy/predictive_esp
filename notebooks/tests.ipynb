{
 "cells": [
  {
   "cell_type": "code",
   "execution_count": 1,
   "id": "0b11798d",
   "metadata": {},
   "outputs": [],
   "source": [
    "import os\n",
    "import yaml\n",
    "import json\n",
    "import pandas as pd\n",
    "import numpy as np\n",
    "# import matplotlib.pyplot as plt"
   ]
  },
  {
   "cell_type": "code",
   "execution_count": 2,
   "id": "aadba428",
   "metadata": {},
   "outputs": [],
   "source": [
    "input_path = \"/c/py/predictive_esp/data/interim/train_test/train/1/activePower1.csv\""
   ]
  },
  {
   "cell_type": "code",
   "execution_count": 4,
   "id": "a6944c83",
   "metadata": {},
   "outputs": [
    {
     "name": "stdout",
     "output_type": "stream",
     "text": [
      "Dirname \n",
      "/c/py/predictive_esp/data/interim/train_test/train\n",
      "\n",
      "No filenames\n",
      "Dirname \n",
      "/c/py/predictive_esp/data/interim/train_test/train/1\n",
      "\n",
      "['activePower1.csv', 'activePower2.csv', 'electricityGage.csv', 'frequency.csv', 'gasRate.csv', 'intakePressure.csv', 'isolation.csv', 'LinePressure.csv', 'LiquidRate.csv', 'motorTemperature.csv', 'OilRate.csv', 'opCurrent1.csv', 'opCurrent2.csv', 'opCurrent3.csv', 'pumpTemperature.csv', 'reagentRate.csv', 'voltageAB.csv', 'voltageBC.csv', 'voltageCA.csv']\n",
      "Dirname \n",
      "/c/py/predictive_esp/data/interim/train_test/train/2\n",
      "\n",
      "['activePower1.csv', 'activePower2.csv', 'electicityGage.csv', 'frequency.csv', 'gasRate.csv', 'intakePressure.csv', 'LinePressure.csv', 'LiquidRate.csv', 'motorLoad.csv', 'motorTemperature.csv', 'OilRate.csv', 'opCurrent1.csv', 'opCurrent2.csv', 'opCurrent3.csv', 'pumpTemperature.csv', 'reagentRate.csv', 'voltageAB.csv', 'voltageBC.csv', 'voltageCA.csv']\n",
      "Dirname \n",
      "/c/py/predictive_esp/data/interim/train_test/train/3\n",
      "\n",
      "['activePower1.csv', 'activePower2.csv', 'electricityGage.csv', 'frequency.csv', 'gasRate.csv', 'intakePressure.csv', 'isolation.csv', 'linePressure.csv', 'liquidRate.csv', 'motorLoad.csv', 'motorTemperature.csv', 'oilRate.csv', 'opCurrent1.csv', 'opCurrent2.csv', 'opCurrent3.csv', 'pumpTemperature.csv', 'voltageAB.csv', 'voltageBC.csv', 'voltageCA.csv']\n"
     ]
    }
   ],
   "source": [
    "for dirname, _, filenames in os.walk(input_path):\n",
    "    print(f\"Dirname \\n{dirname}\")\n",
    "    print()\n",
    "    if filenames:\n",
    "        print(filenames)\n",
    "    else:\n",
    "        print(\"No filenames\")\n",
    "    "
   ]
  },
  {
   "cell_type": "code",
   "execution_count": 2,
   "id": "07f5ef59",
   "metadata": {},
   "outputs": [],
   "source": [
    "data_file = pd.read_csv(\"/c/py/predictive_esp/data/interim/train_test/train/1/activePower1.csv\", parse_dates=[\"time\"])\n",
    "data_file = data_file.sort_values(by=\"time\")\n",
    "# data_file = data_file.set_index(\"time\")"
   ]
  },
  {
   "cell_type": "code",
   "execution_count": 3,
   "id": "42e0a791",
   "metadata": {},
   "outputs": [],
   "source": [
    "data_file[\"month\"] = data_file[\"time\"].dt.month"
   ]
  },
  {
   "cell_type": "code",
   "execution_count": 4,
   "id": "9dc76981",
   "metadata": {},
   "outputs": [
    {
     "data": {
      "text/plain": [
       "9    36219\n",
       "8     8033\n",
       "5     1638\n",
       "7     1553\n",
       "6     1492\n",
       "4      988\n",
       "3      946\n",
       "2      940\n",
       "1      889\n",
       "Name: month, dtype: int64"
      ]
     },
     "execution_count": 4,
     "metadata": {},
     "output_type": "execute_result"
    }
   ],
   "source": [
    "data_file[\"month\"].value_counts()"
   ]
  },
  {
   "cell_type": "code",
   "execution_count": null,
   "id": "06ef411d",
   "metadata": {},
   "outputs": [],
   "source": []
  },
  {
   "cell_type": "code",
   "execution_count": 18,
   "id": "1df6ccf2",
   "metadata": {},
   "outputs": [
    {
     "data": {
      "text/plain": [
       "active_power    0\n",
       "dtype: int64"
      ]
     },
     "execution_count": 18,
     "metadata": {},
     "output_type": "execute_result"
    }
   ],
   "source": [
    "data_file.isna().sum()"
   ]
  },
  {
   "cell_type": "code",
   "execution_count": 13,
   "id": "47d75c09",
   "metadata": {},
   "outputs": [],
   "source": [
    "begin_time = pd.to_datetime(\"01-01-2021\", infer_datetime_format=True)\n",
    "end_time = pd.to_datetime(\"31-12-2021\", infer_datetime_format=True)"
   ]
  },
  {
   "cell_type": "code",
   "execution_count": 14,
   "id": "c2538511",
   "metadata": {},
   "outputs": [],
   "source": [
    "data_file = data_file[data_file.index <= end_time]\n",
    "new_idx = pd.date_range(begin_time, end_time, freq=\"2min\")\n",
    "data_file = data_file.reindex(new_idx, method=\"nearest\", limit=1).interpolate(method=\"spline\", order=2)\n",
    "data_file = data_file.reset_index().rename(columns={\"index\": \"time\"})"
   ]
  },
  {
   "cell_type": "code",
   "execution_count": 15,
   "id": "3751ebe5",
   "metadata": {},
   "outputs": [
    {
     "data": {
      "text/plain": [
       "DatetimeIndex(['2021-01-01 00:00:00', '2021-01-01 00:02:00',\n",
       "               '2021-01-01 00:04:00', '2021-01-01 00:06:00',\n",
       "               '2021-01-01 00:08:00', '2021-01-01 00:10:00',\n",
       "               '2021-01-01 00:12:00', '2021-01-01 00:14:00',\n",
       "               '2021-01-01 00:16:00', '2021-01-01 00:18:00',\n",
       "               ...\n",
       "               '2021-12-30 23:42:00', '2021-12-30 23:44:00',\n",
       "               '2021-12-30 23:46:00', '2021-12-30 23:48:00',\n",
       "               '2021-12-30 23:50:00', '2021-12-30 23:52:00',\n",
       "               '2021-12-30 23:54:00', '2021-12-30 23:56:00',\n",
       "               '2021-12-30 23:58:00', '2021-12-31 00:00:00'],\n",
       "              dtype='datetime64[ns]', length=262081, freq='2T')"
      ]
     },
     "execution_count": 15,
     "metadata": {},
     "output_type": "execute_result"
    }
   ],
   "source": [
    "new_idx"
   ]
  },
  {
   "cell_type": "code",
   "execution_count": 25,
   "id": "211c17b5",
   "metadata": {},
   "outputs": [
    {
     "data": {
      "text/html": [
       "<div>\n",
       "<style scoped>\n",
       "    .dataframe tbody tr th:only-of-type {\n",
       "        vertical-align: middle;\n",
       "    }\n",
       "\n",
       "    .dataframe tbody tr th {\n",
       "        vertical-align: top;\n",
       "    }\n",
       "\n",
       "    .dataframe thead th {\n",
       "        text-align: right;\n",
       "    }\n",
       "</style>\n",
       "<table border=\"1\" class=\"dataframe\">\n",
       "  <thead>\n",
       "    <tr style=\"text-align: right;\">\n",
       "      <th></th>\n",
       "      <th>active_power</th>\n",
       "    </tr>\n",
       "    <tr>\n",
       "      <th>time</th>\n",
       "      <th></th>\n",
       "    </tr>\n",
       "  </thead>\n",
       "  <tbody>\n",
       "    <tr>\n",
       "      <th>2021-01-31 23:30:40</th>\n",
       "      <td>92.7</td>\n",
       "    </tr>\n",
       "    <tr>\n",
       "      <th>2021-01-31 23:00:58</th>\n",
       "      <td>92.8</td>\n",
       "    </tr>\n",
       "    <tr>\n",
       "      <th>2021-01-31 22:30:41</th>\n",
       "      <td>92.0</td>\n",
       "    </tr>\n",
       "    <tr>\n",
       "      <th>2021-01-31 22:00:30</th>\n",
       "      <td>92.6</td>\n",
       "    </tr>\n",
       "    <tr>\n",
       "      <th>2021-01-31 21:30:14</th>\n",
       "      <td>92.0</td>\n",
       "    </tr>\n",
       "    <tr>\n",
       "      <th>...</th>\n",
       "      <td>...</td>\n",
       "    </tr>\n",
       "    <tr>\n",
       "      <th>2021-01-06 20:30:51</th>\n",
       "      <td>0.0</td>\n",
       "    </tr>\n",
       "    <tr>\n",
       "      <th>2021-01-06 19:30:34</th>\n",
       "      <td>0.0</td>\n",
       "    </tr>\n",
       "    <tr>\n",
       "      <th>2021-01-06 17:30:38</th>\n",
       "      <td>0.0</td>\n",
       "    </tr>\n",
       "    <tr>\n",
       "      <th>2021-01-06 17:00:35</th>\n",
       "      <td>0.0</td>\n",
       "    </tr>\n",
       "    <tr>\n",
       "      <th>2021-01-06 16:55:35</th>\n",
       "      <td>0.0</td>\n",
       "    </tr>\n",
       "  </tbody>\n",
       "</table>\n",
       "<p>889 rows × 1 columns</p>\n",
       "</div>"
      ],
      "text/plain": [
       "                     active_power\n",
       "time                             \n",
       "2021-01-31 23:30:40          92.7\n",
       "2021-01-31 23:00:58          92.8\n",
       "2021-01-31 22:30:41          92.0\n",
       "2021-01-31 22:00:30          92.6\n",
       "2021-01-31 21:30:14          92.0\n",
       "...                           ...\n",
       "2021-01-06 20:30:51           0.0\n",
       "2021-01-06 19:30:34           0.0\n",
       "2021-01-06 17:30:38           0.0\n",
       "2021-01-06 17:00:35           0.0\n",
       "2021-01-06 16:55:35           0.0\n",
       "\n",
       "[889 rows x 1 columns]"
      ]
     },
     "execution_count": 25,
     "metadata": {},
     "output_type": "execute_result"
    }
   ],
   "source": [
    "data[data.index.month < 2]"
   ]
  },
  {
   "cell_type": "code",
   "execution_count": 6,
   "id": "fc9b99aa",
   "metadata": {},
   "outputs": [],
   "source": [
    "data[\"month\"] = data[\"time\"].dt.month"
   ]
  },
  {
   "cell_type": "code",
   "execution_count": 7,
   "id": "3b9127ff",
   "metadata": {},
   "outputs": [],
   "source": [
    "start_test_month = 3\n",
    "window_size = 3"
   ]
  },
  {
   "cell_type": "code",
   "execution_count": 8,
   "id": "b208eb1b",
   "metadata": {},
   "outputs": [
    {
     "data": {
      "text/plain": [
       "11    43768\n",
       "12    42917\n",
       "10    38412\n",
       "9     36219\n",
       "8      8033\n",
       "5      1638\n",
       "7      1553\n",
       "6      1492\n",
       "4       988\n",
       "3       946\n",
       "2       940\n",
       "1       889\n",
       "Name: month, dtype: int64"
      ]
     },
     "execution_count": 8,
     "metadata": {},
     "output_type": "execute_result"
    }
   ],
   "source": [
    "data[\"month\"].value_counts()"
   ]
  },
  {
   "cell_type": "code",
   "execution_count": 12,
   "id": "ecbb5856",
   "metadata": {},
   "outputs": [],
   "source": [
    "mask = (data[\"month\"] >= start_test_month) & (data[\"month\"] <= start_test_month + window_size)"
   ]
  },
  {
   "cell_type": "code",
   "execution_count": 13,
   "id": "10bceeb5",
   "metadata": {},
   "outputs": [
    {
     "data": {
      "text/plain": [
       "5064"
      ]
     },
     "execution_count": 13,
     "metadata": {},
     "output_type": "execute_result"
    }
   ],
   "source": [
    "mask.sum()"
   ]
  },
  {
   "cell_type": "code",
   "execution_count": 14,
   "id": "1b379a3f",
   "metadata": {},
   "outputs": [],
   "source": [
    "d = \"01-01-2021\""
   ]
  },
  {
   "cell_type": "code",
   "execution_count": 15,
   "id": "01ca3fc0",
   "metadata": {},
   "outputs": [
    {
     "data": {
      "text/plain": [
       "Timestamp('2021-01-01 00:00:00')"
      ]
     },
     "execution_count": 15,
     "metadata": {},
     "output_type": "execute_result"
    }
   ],
   "source": [
    "pd.to_datetime(d)"
   ]
  },
  {
   "cell_type": "code",
   "execution_count": 4,
   "id": "8ab54535",
   "metadata": {},
   "outputs": [],
   "source": [
    "config_path = os.path.join(\"C:\\\\py\\\\predictive_esp\\\\config\\\\params_all.yaml\")\n",
    "config = yaml.safe_load(open(config_path))[\"create_dataset\"]"
   ]
  },
  {
   "cell_type": "code",
   "execution_count": 6,
   "id": "7a4b4bee",
   "metadata": {},
   "outputs": [
    {
     "data": {
      "text/plain": [
       "['time',\n",
       " 'active_power',\n",
       " 'active_power2',\n",
       " 'electricity_gage',\n",
       " 'frequency',\n",
       " 'intake_pressure',\n",
       " 'line_pressure',\n",
       " 'liquid_rate',\n",
       " 'motor_load',\n",
       " 'motor_temperature',\n",
       " 'op_current1',\n",
       " 'op_current2',\n",
       " 'op_current3',\n",
       " 'pump_temperature',\n",
       " 'voltageAB',\n",
       " 'voltageBC',\n",
       " 'voltageCA',\n",
       " 'well_id']"
      ]
     },
     "execution_count": 6,
     "metadata": {},
     "output_type": "execute_result"
    }
   ],
   "source": [
    "config[\"columns\"]"
   ]
  },
  {
   "cell_type": "code",
   "execution_count": 3,
   "id": "f57b70b4",
   "metadata": {},
   "outputs": [],
   "source": [
    "path = \"/c/py/predictive_esp/data/processed/train.csv\""
   ]
  },
  {
   "cell_type": "code",
   "execution_count": 3,
   "id": "28581550",
   "metadata": {},
   "outputs": [],
   "source": [
    "from sklearn.linear_model import LogisticRegression\n",
    "import pandas as pd"
   ]
  },
  {
   "cell_type": "code",
   "execution_count": 4,
   "id": "2dc57ba1",
   "metadata": {},
   "outputs": [],
   "source": [
    "data = pd.read_csv(path)"
   ]
  },
  {
   "cell_type": "code",
   "execution_count": 5,
   "id": "43832bb5",
   "metadata": {},
   "outputs": [
    {
     "data": {
      "text/plain": [
       "Index(['Unnamed: 0', 'time', 'active_power', 'active_power2',\n",
       "       'electricity_gage', 'frequency', 'intake_pressure', 'line_pressure',\n",
       "       'liquid_rate', 'motor_load', 'motor_temperature', 'op_current1',\n",
       "       'op_current2', 'op_current3', 'pump_temperature', 'voltageAB',\n",
       "       'voltageBC', 'voltageCA', 'well_id', 'voltage_unbalance',\n",
       "       'current_unbalance', 'voltage', 'current', 'resistance', 'power_A',\n",
       "       'power_B', 'power_C', 'theory_power', 'power_diff', 'power_lossesA',\n",
       "       'power_lossesB', 'power_lossesC', 'pressure_drop', 'theory_rate',\n",
       "       'rate_diff', 'freq_ratio', 'freq_squared_ratio', 'freq_cubic_ratio',\n",
       "       'skin', 'current_rol_mean_2520', 'current_rol_std_2520',\n",
       "       'current_rol_max_2520', 'current_rol_min_2520', 'current_spk_2520',\n",
       "       'current_deriv', 'current_squared', 'current_root',\n",
       "       'voltage_rol_mean_2520', 'voltage_rol_std_2520', 'voltage_rol_max_2520',\n",
       "       'voltage_rol_min_2520', 'voltage_spk_2520', 'voltage_deriv',\n",
       "       'voltage_squared', 'voltage_root', 'active_power_rol_mean_2520',\n",
       "       'active_power_rol_std_2520', 'active_power_rol_max_2520',\n",
       "       'active_power_rol_min_2520', 'active_power_spk_2520',\n",
       "       'active_power_deriv', 'active_power_squared', 'active_power_root',\n",
       "       'frequency_rol_mean_2520', 'frequency_rol_std_2520',\n",
       "       'frequency_rol_max_2520', 'frequency_rol_min_2520',\n",
       "       'frequency_spk_2520', 'frequency_deriv', 'frequency_squared',\n",
       "       'frequency_root', 'electricity_gage_rol_mean_2520',\n",
       "       'electricity_gage_rol_std_2520', 'electricity_gage_rol_max_2520',\n",
       "       'electricity_gage_rol_min_2520', 'electricity_gage_spk_2520',\n",
       "       'electricity_gage_deriv', 'electricity_gage_squared',\n",
       "       'electricity_gage_root', 'pump_temperature_rol_mean_2520',\n",
       "       'pump_temperature_rol_std_2520', 'pump_temperature_rol_max_2520',\n",
       "       'pump_temperature_rol_min_2520', 'pump_temperature_spk_2520',\n",
       "       'pump_temperature_deriv', 'pump_temperature_squared',\n",
       "       'pump_temperature_root', 'event_id', 'failure_target'],\n",
       "      dtype='object')"
      ]
     },
     "execution_count": 5,
     "metadata": {},
     "output_type": "execute_result"
    }
   ],
   "source": [
    "data.columns"
   ]
  },
  {
   "cell_type": "code",
   "execution_count": 13,
   "id": "8d395a98",
   "metadata": {},
   "outputs": [],
   "source": [
    "data = data.replace(float(\"inf\"), 0)"
   ]
  },
  {
   "cell_type": "code",
   "execution_count": 14,
   "id": "0eb55a84",
   "metadata": {},
   "outputs": [
    {
     "data": {
      "text/plain": [
       "0.0"
      ]
     },
     "execution_count": 14,
     "metadata": {},
     "output_type": "execute_result"
    }
   ],
   "source": [
    "data[data == float(\"inf\")].sum().sum()"
   ]
  },
  {
   "cell_type": "code",
   "execution_count": 2,
   "id": "1baa9599",
   "metadata": {},
   "outputs": [],
   "source": [
    "path = \"/c/py/predictive_esp/workflow/test_json.json\""
   ]
  },
  {
   "cell_type": "code",
   "execution_count": 6,
   "id": "132df185",
   "metadata": {},
   "outputs": [],
   "source": [
    "test = {u'port_description': None, u'alert_type': u'alert_type', u'event_type': u'CLEARED', u'sector_id': None, u'ip': u'ip', u'device_class': u'device_class', u'area_id': u'557', u'port_name': None, u'device_type': u'device_type', u'guts_object_type_id': None, u'b2o_count': u'0', u'unified_street_id': u'645953', u'campus_id': u'110912', u'event_id': u'4036546030094053586', u'b2b_count': u'1', u'company_id': u'0', u'role_id': u'121', u'unified_house_id': u'203823', u'b2g_count': u'0', u'front_door_number': u'1', u'uhs_id': u'411423', u'network_use_type_id': None, u'device_id': u'users.admin.devices.avatar_1655906982231', u'port_role_id': None, u'affected_services_count': u'2', u'b2c_count': None, u'end_time': u'2022-08-18 06:58:43', u'port_number': None, u'b2r_count': u'0', u'b2f_count': u'0'}\n"
   ]
  },
  {
   "cell_type": "code",
   "execution_count": 9,
   "id": "ea9dc804",
   "metadata": {},
   "outputs": [
    {
     "data": {
      "text/plain": [
       "{'port_description': None,\n",
       " 'alert_type': 'alert_type',\n",
       " 'event_type': 'CLEARED',\n",
       " 'sector_id': None,\n",
       " 'ip': 'ip',\n",
       " 'device_class': 'device_class',\n",
       " 'area_id': '557',\n",
       " 'port_name': None,\n",
       " 'device_type': 'device_type',\n",
       " 'guts_object_type_id': None,\n",
       " 'b2o_count': '0',\n",
       " 'unified_street_id': '645953',\n",
       " 'campus_id': '110912',\n",
       " 'event_id': '4036546030094053586',\n",
       " 'b2b_count': '1',\n",
       " 'company_id': '0',\n",
       " 'role_id': '121',\n",
       " 'unified_house_id': '203823',\n",
       " 'b2g_count': '0',\n",
       " 'front_door_number': '1',\n",
       " 'uhs_id': '411423',\n",
       " 'network_use_type_id': None,\n",
       " 'device_id': 'users.admin.devices.avatar_1655906982231',\n",
       " 'port_role_id': None,\n",
       " 'affected_services_count': '2',\n",
       " 'b2c_count': None,\n",
       " 'end_time': '2022-08-18 06:58:43',\n",
       " 'port_number': None,\n",
       " 'b2r_count': '0',\n",
       " 'b2f_count': '0'}"
      ]
     },
     "execution_count": 9,
     "metadata": {},
     "output_type": "execute_result"
    }
   ],
   "source": [
    "test"
   ]
  },
  {
   "cell_type": "code",
   "execution_count": null,
   "id": "c0850698",
   "metadata": {},
   "outputs": [],
   "source": []
  },
  {
   "cell_type": "code",
   "execution_count": null,
   "id": "0f57a1db",
   "metadata": {},
   "outputs": [],
   "source": []
  }
 ],
 "metadata": {
  "kernelspec": {
   "display_name": "Python 3 (ipykernel)",
   "language": "python",
   "name": "python3"
  },
  "language_info": {
   "codemirror_mode": {
    "name": "ipython",
    "version": 3
   },
   "file_extension": ".py",
   "mimetype": "text/x-python",
   "name": "python",
   "nbconvert_exporter": "python",
   "pygments_lexer": "ipython3",
   "version": "3.8.10"
  }
 },
 "nbformat": 4,
 "nbformat_minor": 5
}
