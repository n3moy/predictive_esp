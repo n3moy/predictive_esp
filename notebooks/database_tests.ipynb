{
 "cells": [
  {
   "cell_type": "code",
   "execution_count": 1,
   "metadata": {},
   "outputs": [],
   "source": [
    "import mysql.connector"
   ]
  },
  {
   "cell_type": "code",
   "execution_count": 17,
   "metadata": {},
   "outputs": [],
   "source": [
    "# Connect to server\n",
    "cnx = mysql.connector.connect(\n",
    "    host=\"remotemysql.com\",\n",
    "    port=3306,\n",
    "    user=\"CtoVpgPinZ\",\n",
    "    password=\"NHEPNPqYVz\"\n",
    ")\n",
    "\n",
    "# Get a cursor\n",
    "cur = cnx.cursor()\n",
    "\n",
    "# Execute a query\n",
    "cur.execute(\"select * from CtoVpgPinZ.TABLE_1;\")\n",
    "\n",
    "# Fetch one result\n",
    "# row = cur.fetchone()\n",
    "# print(\"Current date is: {0}\".format(row[0]))\n",
    "\n",
    "# Close connection\n",
    "# cnx.close()"
   ]
  },
  {
   "cell_type": "code",
   "execution_count": 18,
   "metadata": {},
   "outputs": [],
   "source": [
    "all_rows = cur.fetchall()"
   ]
  },
  {
   "cell_type": "code",
   "execution_count": 45,
   "metadata": {},
   "outputs": [
    {
     "data": {
      "text/plain": [
       "[('well_id', 8, None, None, None, None, 1, 32768, 63),\n",
       " ('borehole', 3, None, None, None, None, 1, 32768, 63),\n",
       " ('bottom_depth', 3, None, None, None, None, 1, 32768, 63),\n",
       " ('depth_abs', 3, None, None, None, None, 1, 32768, 63),\n",
       " ('angle', 3, None, None, None, None, 1, 32768, 63),\n",
       " ('azimuth', 3, None, None, None, None, 1, 32768, 63),\n",
       " ('dx', 3, None, None, None, None, 1, 32768, 63),\n",
       " ('dy', 3, None, None, None, None, 1, 32768, 63),\n",
       " ('offset', 3, None, None, None, None, 1, 32768, 63),\n",
       " ('depth_next', 253, None, None, None, None, 1, 0, 255),\n",
       " ('depth_abs_next', 253, None, None, None, None, 1, 0, 255),\n",
       " ('last_updated', 253, None, None, None, None, 1, 0, 255),\n",
       " ('deviation', 3, None, None, None, None, 1, 32768, 63),\n",
       " ('is_max_deviation', 253, None, None, None, None, 1, 0, 255),\n",
       " ('depth_prev', 3, None, None, None, None, 1, 32768, 63)]"
      ]
     },
     "execution_count": 45,
     "metadata": {},
     "output_type": "execute_result"
    }
   ],
   "source": [
    "cur.description"
   ]
  },
  {
   "cell_type": "code",
   "execution_count": 29,
   "metadata": {},
   "outputs": [],
   "source": [
    "cur.add_attribute(\"test\", \"test\")"
   ]
  },
  {
   "cell_type": "code",
   "execution_count": 19,
   "metadata": {},
   "outputs": [],
   "source": [
    "import pandas as pd\n",
    "import numpy as np"
   ]
  },
  {
   "cell_type": "code",
   "execution_count": 37,
   "metadata": {},
   "outputs": [],
   "source": [
    "input_data = pd.DataFrame(data=np.array(all_rows), columns=cur.column_names)"
   ]
  },
  {
   "cell_type": "code",
   "execution_count": 21,
   "metadata": {},
   "outputs": [],
   "source": [
    "data = pd.read_csv(\"C:\\\\py\\\\predictive_esp\\\\data\\\\raw\\\\data_files\\\\2\\\\curvature.csv\")"
   ]
  },
  {
   "cell_type": "code",
   "execution_count": 38,
   "metadata": {},
   "outputs": [],
   "source": [
    "input_data = input_data.infer_objects()"
   ]
  },
  {
   "cell_type": "code",
   "execution_count": 42,
   "metadata": {},
   "outputs": [
    {
     "data": {
      "text/plain": [
       "0      6130093300\n",
       "1      6130093300\n",
       "2      6130093300\n",
       "3      6130093300\n",
       "4      6130093300\n",
       "          ...    \n",
       "348    6130093300\n",
       "349    6130093300\n",
       "350    6130093300\n",
       "351    6130093300\n",
       "352    6130093300\n",
       "Name: well_id, Length: 353, dtype: int64"
      ]
     },
     "execution_count": 42,
     "metadata": {},
     "output_type": "execute_result"
    }
   ],
   "source": [
    "pd.to_numeric(input_data[\"well_id\"])"
   ]
  },
  {
   "cell_type": "code",
   "execution_count": 24,
   "metadata": {},
   "outputs": [
    {
     "name": "stdout",
     "output_type": "stream",
     "text": [
      "<class 'pandas.core.frame.DataFrame'>\n",
      "RangeIndex: 353 entries, 0 to 352\n",
      "Data columns (total 15 columns):\n",
      " #   Column            Non-Null Count  Dtype  \n",
      "---  ------            --------------  -----  \n",
      " 0   well_id           353 non-null    int64  \n",
      " 1   borehole          353 non-null    int64  \n",
      " 2   bottom_depth      353 non-null    int64  \n",
      " 3   depth_abs         353 non-null    int64  \n",
      " 4   angle             353 non-null    int64  \n",
      " 5   azimuth           353 non-null    int64  \n",
      " 6   dx                353 non-null    int64  \n",
      " 7   dy                353 non-null    int64  \n",
      " 8   offset            353 non-null    int64  \n",
      " 9   depth_next        352 non-null    float64\n",
      " 10  depth_abs_next    352 non-null    float64\n",
      " 11  last_updated      353 non-null    object \n",
      " 12  deviation         353 non-null    int64  \n",
      " 13  is_max_deviation  353 non-null    object \n",
      " 14  depth_prev        353 non-null    int64  \n",
      "dtypes: float64(2), int64(11), object(2)\n",
      "memory usage: 41.5+ KB\n"
     ]
    }
   ],
   "source": [
    "data.info()"
   ]
  },
  {
   "cell_type": "code",
   "execution_count": 1,
   "metadata": {},
   "outputs": [
    {
     "ename": "ModuleNotFoundError",
     "evalue": "No module named 'mlflow'",
     "output_type": "error",
     "traceback": [
      "\u001b[0;31m---------------------------------------------------------------------------\u001b[0m",
      "\u001b[0;31mModuleNotFoundError\u001b[0m                       Traceback (most recent call last)",
      "Input \u001b[0;32mIn [1]\u001b[0m, in \u001b[0;36m<cell line: 1>\u001b[0;34m()\u001b[0m\n\u001b[0;32m----> 1\u001b[0m \u001b[38;5;28;01mimport\u001b[39;00m \u001b[38;5;21;01mmlflow\u001b[39;00m\n",
      "\u001b[0;31mModuleNotFoundError\u001b[0m: No module named 'mlflow'"
     ]
    }
   ],
   "source": [
    "import mlflow"
   ]
  },
  {
   "cell_type": "code",
   "execution_count": null,
   "metadata": {},
   "outputs": [],
   "source": []
  },
  {
   "cell_type": "code",
   "execution_count": null,
   "metadata": {},
   "outputs": [],
   "source": []
  }
 ],
 "metadata": {
  "kernelspec": {
   "display_name": "Python 3 (ipykernel)",
   "language": "python",
   "name": "python3"
  },
  "language_info": {
   "codemirror_mode": {
    "name": "ipython",
    "version": 3
   },
   "file_extension": ".py",
   "mimetype": "text/x-python",
   "name": "python",
   "nbconvert_exporter": "python",
   "pygments_lexer": "ipython3",
   "version": "3.8.10"
  },
  "vscode": {
   "interpreter": {
    "hash": "52634da84371cba311ea128a5ea7cdc41ff074b781779e754b270ff9f8153cee"
   }
  }
 },
 "nbformat": 4,
 "nbformat_minor": 2
}
